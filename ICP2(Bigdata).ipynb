{
  "nbformat": 4,
  "nbformat_minor": 0,
  "metadata": {
    "colab": {
      "provenance": []
    },
    "kernelspec": {
      "name": "python3",
      "display_name": "Python 3"
    },
    "language_info": {
      "name": "python"
    }
  },
  "cells": [
    {
      "cell_type": "code",
      "execution_count": 1,
      "metadata": {
        "colab": {
          "base_uri": "https://localhost:8080/"
        },
        "id": "dtzm6NJZtQxK",
        "outputId": "ad46d2d8-99b6-4ddc-8082-8ee3d6f03979"
      },
      "outputs": [
        {
          "output_type": "stream",
          "name": "stdout",
          "text": [
            "My count: 2, Total count: 3\n",
            "My count: 1, Total count: 3\n"
          ]
        }
      ],
      "source": [
        "##1\n",
        "class Counter:\n",
        "    total_count = 0  # Class variable to track total increments\n",
        "\n",
        "    def __init__(self):\n",
        "        self.my_count = 0  # Instance variable for individual object\n",
        "\n",
        "    def increment(self):\n",
        "        self.my_count += 1\n",
        "        Counter.total_count += 1\n",
        "\n",
        "    def get_counts(self):\n",
        "        return f\"My count: {self.my_count}, Total count: {Counter.total_count}\"\n",
        "\n",
        "\n",
        "# Create two Counter objects\n",
        "a = Counter()\n",
        "b = Counter()\n",
        "\n",
        "# Increment counters\n",
        "a.increment()\n",
        "a.increment()\n",
        "b.increment()\n",
        "\n",
        "# Print their counts\n",
        "print(a.get_counts())  # Output: My count: 2, Total count: 3\n",
        "print(b.get_counts())  # Output: My count: 1, Total count: 3\n",
        "\n"
      ]
    },
    {
      "cell_type": "markdown",
      "source": [
        "Task1:Difference between Counter.count and self._count\n",
        "\n",
        "Counter.count: A class variable shared by all objects. Tracks total increments across all instances.\n",
        "\n",
        "self._count: An instance variable. Tracks increments for that specific object only.\n",
        "\n",
        "Task2:What is the output of a.get_counts() and b.get_counts()?\n",
        "a.increment()  # a.my_count = 1, total_count = 1\n",
        "a.increment()  # a.my_count = 2, total_count = 2\n",
        "b.increment()  # b.my_count = 1, total_count = 3\n",
        "So the output will be ,\n",
        "My count: 2, Total count: 3\n",
        "My count: 1, Total count: 3\n",
        "\n",
        "Task3:How does the increment method affect both the class and instance variables?\n",
        "When you call .increment() on an object:\n",
        "\n",
        "It increases self.my_count → updates that object's count.\n",
        "\n",
        "It increases Counter.total_count → updates the shared class count for all objects.\n",
        "\n",
        "So, each time any object calls increment, both that object's counter and the class-wide counter go up by 1."
      ],
      "metadata": {
        "id": "vl1RRoN5xF0F"
      }
    },
    {
      "cell_type": "code",
      "source": [
        "##2\n",
        "def sum_all(*args):  # Use *args to accept multiple numbers\n",
        "    return sum(args)\n",
        "\n",
        "print(\"Sum of 1, 2, 3 is:\", sum_all(1, 2, 3))\n",
        "print(\"Sum of 4, 5, 6, 7 is:\", sum_all(4, 5, 6, 7))\n"
      ],
      "metadata": {
        "colab": {
          "base_uri": "https://localhost:8080/"
        },
        "id": "OU2n194Bw82m",
        "outputId": "48e6f2fd-acfe-4685-ce8d-8bd88b2562f8"
      },
      "execution_count": 3,
      "outputs": [
        {
          "output_type": "stream",
          "name": "stdout",
          "text": [
            "Sum of 1, 2, 3 is: 6\n",
            "Sum of 4, 5, 6, 7 is: 22\n"
          ]
        }
      ]
    },
    {
      "cell_type": "code",
      "source": [
        "##3\n",
        "def first_word(word_list):\n",
        "    sorted_list = sorted(word_list)  # Step 1: Sort the list alphabetically\n",
        "    return sorted_list[0]            # Step 2: Return the first word\n",
        "\n",
        "# Example input list\n",
        "students = ['Mary', 'Zelda', 'Jimmy', 'Jack', 'Bartholomew', 'Gertrude']\n",
        "\n",
        "# Call the function and print the result\n",
        "print(first_word(students))\n"
      ],
      "metadata": {
        "colab": {
          "base_uri": "https://localhost:8080/"
        },
        "id": "8zsAzUnUyyQL",
        "outputId": "e2bd4023-ecdd-46c0-bc17-4cbfcb17585a"
      },
      "execution_count": 4,
      "outputs": [
        {
          "output_type": "stream",
          "name": "stdout",
          "text": [
            "Bartholomew\n"
          ]
        }
      ]
    },
    {
      "cell_type": "code",
      "source": [
        "class Employee:\n",
        "    # Class variables to count employees and total salary\n",
        "    employee_count = 0\n",
        "    total_salary = 0\n",
        "\n",
        "    def __init__(self, name, family, salary, department):\n",
        "        self.name = name\n",
        "        self.family = family\n",
        "        self.salary = salary\n",
        "        self.department = department\n",
        "\n",
        "        # Update class variables\n",
        "        Employee.employee_count += 1\n",
        "        Employee.total_salary += salary\n",
        "\n",
        "    @classmethod\n",
        "    def average_salary(cls):\n",
        "        if cls.employee_count == 0:\n",
        "            return 0\n",
        "        return cls.total_salary / cls.employee_count\n",
        "\n",
        "\n",
        "# FulltimeEmployee inherits from Employee\n",
        "class FulltimeEmployee(Employee):\n",
        "    pass\n",
        "\n",
        "\n",
        "# Create instances\n",
        "emp1 = Employee(\"Alice\", \"Smith\", 50000, \"HR\")\n",
        "emp2 = FulltimeEmployee(\"Bob\", \"Johnson\", 60000, \"IT\")\n",
        "emp3 = FulltimeEmployee(\"Charlie\", \"Brown\", 70000, \"Finance\")\n",
        "\n",
        "# Call member functions and print results\n",
        "print(\"Total Employees:\", Employee.employee_count)\n",
        "print(\"Average Salary:\", Employee.average_salary())\n",
        "print(f\"{emp2.name} is a full-time employee in {emp2.department} department.\")\n"
      ],
      "metadata": {
        "colab": {
          "base_uri": "https://localhost:8080/"
        },
        "id": "79TVkzNK1K5I",
        "outputId": "2eb872c5-2773-4718-da7c-595bc0047cee"
      },
      "execution_count": 5,
      "outputs": [
        {
          "output_type": "stream",
          "name": "stdout",
          "text": [
            "Total Employees: 3\n",
            "Average Salary: 60000.0\n",
            "Bob is a full-time employee in IT department.\n"
          ]
        }
      ]
    },
    {
      "cell_type": "markdown",
      "source": [
        "Video Link: https://drive.google.com/file/d/1cbrdvPKsapwa4mnWFBNcI5-0OJimQR8m/view?usp=sharing\n"
      ],
      "metadata": {
        "id": "Q5MZi31uvCan"
      }
    },
    {
      "cell_type": "code",
      "source": [],
      "metadata": {
        "id": "-34sWECNvUrx"
      },
      "execution_count": null,
      "outputs": []
    }
  ]
}