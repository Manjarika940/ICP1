{
  "nbformat": 4,
  "nbformat_minor": 0,
  "metadata": {
    "colab": {
      "provenance": [],
      "authorship_tag": "ABX9TyNA5eOtXxSzcb3USWtYO4s5",
      "include_colab_link": true
    },
    "kernelspec": {
      "name": "python3",
      "display_name": "Python 3"
    },
    "language_info": {
      "name": "python"
    }
  },
  "cells": [
    {
      "cell_type": "markdown",
      "metadata": {
        "id": "view-in-github",
        "colab_type": "text"
      },
      "source": [
        "<a href=\"https://colab.research.google.com/github/Manjarika940/ICP1/blob/main/Untitled1.ipynb\" target=\"_parent\"><img src=\"https://colab.research.google.com/assets/colab-badge.svg\" alt=\"Open In Colab\"/></a>"
      ]
    },
    {
      "cell_type": "code",
      "source": [
        "##5.a.\n",
        "user_input = list(input(\"Enter a string (e.g., 'python'): \"))\n",
        "\n",
        "# Delete characters at position 1 and 2 (for example)\n",
        "del user_input[1:3]\n",
        "\n",
        "# Reverse the list\n",
        "user_input.reverse()\n",
        "\n",
        "# Print the final string\n",
        "result = ''.join(user_input)\n",
        "print(\"Final string after deletion and reversal:\", result)\n"
      ],
      "metadata": {
        "colab": {
          "base_uri": "https://localhost:8080/"
        },
        "id": "t5kU5r-dVk62",
        "outputId": "e1cab49d-389b-494a-9ce1-e68ea0279028"
      },
      "execution_count": 3,
      "outputs": [
        {
          "output_type": "stream",
          "name": "stdout",
          "text": [
            "Enter a string (e.g., 'python'): python\n",
            "Final string after deletion and reversal: nohp\n"
          ]
        }
      ]
    },
    {
      "cell_type": "code",
      "source": [
        "#b. Arithmetic operations\n",
        "# Input two numbers from the user\n",
        "a = float(input(\"Enter first number: \"))\n",
        "b = float(input(\"Enter second number: \"))\n",
        "\n",
        "# Perform arithmetic operations\n",
        "print(\"Addition:\", a + b)\n",
        "print(\"Subtraction:\", a - b)\n",
        "print(\"Multiplication:\", a * b)\n",
        "print(\"Division:\", a / b if b != 0 else \"Cannot divide by zero\")\n"
      ],
      "metadata": {
        "colab": {
          "base_uri": "https://localhost:8080/"
        },
        "id": "iKnarsbRU-Mm",
        "outputId": "5a863b41-9989-4457-ef6f-998eff1526af"
      },
      "execution_count": 4,
      "outputs": [
        {
          "output_type": "stream",
          "name": "stdout",
          "text": [
            "Enter first number: 2\n",
            "Enter second number: 4\n",
            "Addition: 6.0\n",
            "Subtraction: -2.0\n",
            "Multiplication: 8.0\n",
            "Division: 0.5\n"
          ]
        }
      ]
    },
    {
      "cell_type": "code",
      "source": [
        "##6.# Take input from user\n",
        "sentence = input(\"Enter a sentence: \")\n",
        "\n",
        "# Replace 'python' with 'pythons'\n",
        "updated_sentence = sentence.replace(\"python\", \"pythons\")\n",
        "\n",
        "# Print the updated sentence\n",
        "print(\"Updated sentence:\", updated_sentence)\n"
      ],
      "metadata": {
        "colab": {
          "base_uri": "https://localhost:8080/"
        },
        "id": "XaGaA4uhWh8Q",
        "outputId": "b77b0b4e-352d-486a-9b11-38178f50a976"
      },
      "execution_count": 5,
      "outputs": [
        {
          "output_type": "stream",
          "name": "stdout",
          "text": [
            "Enter a sentence: I love playing with python\n",
            "Updated sentence: I love playing with pythons\n"
          ]
        }
      ]
    },
    {
      "cell_type": "code",
      "source": [
        "##7.# Get score from user\n",
        "score = float(input(\"Enter your class score: \"))\n",
        "\n",
        "# Check the score range and print grade\n",
        "if score >= 90:\n",
        "    print(\"Your grade is: A\")\n",
        "elif score >= 80:\n",
        "    print(\"Your grade is: B\")\n",
        "elif score >= 70:\n",
        "    print(\"Your grade is: C\")\n",
        "elif score >= 60:\n",
        "    print(\"Your grade is: D\")\n",
        "else:\n",
        "    print(\"Your grade is: F\")\n"
      ],
      "metadata": {
        "colab": {
          "base_uri": "https://localhost:8080/"
        },
        "id": "TPsEtGkcW1aH",
        "outputId": "2baf4561-636e-4d41-e13d-211d0f109eac"
      },
      "execution_count": 6,
      "outputs": [
        {
          "output_type": "stream",
          "name": "stdout",
          "text": [
            "Enter your class score: 85\n",
            "Your grade is: B\n"
          ]
        }
      ]
    },
    {
      "cell_type": "code",
      "execution_count": 1,
      "metadata": {
        "colab": {
          "base_uri": "https://localhost:8080/"
        },
        "id": "Q_q0NxbjUvuo",
        "outputId": "16ac3a34-35e3-48c1-ecbb-abde96789cb3"
      },
      "outputs": [
        {
          "output_type": "stream",
          "name": "stdout",
          "text": [
            "Mounted at /content/drive\n"
          ]
        }
      ],
      "source": [
        "from google.colab import drive\n",
        "drive.mount('/content/drive')\n"
      ]
    },
    {
      "cell_type": "code",
      "source": [
        "##8. # Input list\n",
        "x = [23, 'Python', 23.98]\n",
        "\n",
        "# Create a list of the types of each element\n",
        "types = [type(item) for item in x]\n",
        "\n",
        "# Print the original list\n",
        "print(x)\n",
        "\n",
        "# Print the list of types\n",
        "print(types)"
      ],
      "metadata": {
        "colab": {
          "base_uri": "https://localhost:8080/"
        },
        "id": "rduDeDpaXHZ_",
        "outputId": "e96be560-19f2-4df6-defb-95b39ed9a4a7"
      },
      "execution_count": 7,
      "outputs": [
        {
          "output_type": "stream",
          "name": "stdout",
          "text": [
            "[23, 'Python', 23.98]\n",
            "[<class 'int'>, <class 'str'>, <class 'float'>]\n"
          ]
        }
      ]
    },
    {
      "cell_type": "code",
      "source": [
        "##9.# Initial data\n",
        "IT_companies = {'Facebook', 'Google', 'Microsoft', 'Apple', 'IBM', 'Oracle', 'Amazon'}\n",
        "A = {19, 22, 24, 20, 25, 26}\n",
        "B = {19, 22, 20, 25, 26, 24, 28, 27}\n",
        "age = [22, 19, 24, 25, 26, 24, 25, 24]\n",
        "\n",
        "# 1. Length of IT_companies\n",
        "print(\"Length of IT_companies:\", len(IT_companies))\n",
        "\n",
        "# 2. Add 'Twitter'\n",
        "IT_companies.add('Twitter')\n",
        "print(\"After adding Twitter:\", IT_companies)\n",
        "\n",
        "# 3. Add multiple companies\n",
        "IT_companies.update(['Tesla', 'Intel', 'Adobe'])\n",
        "print(\"After adding multiple companies:\", IT_companies)\n",
        "\n",
        "# 4. Remove one company\n",
        "IT_companies.remove('IBM')  # or discard('IBM')\n",
        "print(\"After removing IBM:\", IT_companies)\n",
        "\n",
        "# 5. Difference between remove and discard\n",
        "print(\"Difference:\")\n",
        "print(\"- remove() will raise an error if the item does not exist.\")\n",
        "print(\"- discard() will NOT raise an error if the item does not exist.\")\n",
        "\n",
        "# 6. Join A and B (Union)\n",
        "print(\"Join A and B:\", A.union(B))\n",
        "\n",
        "# 7. A intersection B\n",
        "print(\"A intersection B:\", A.intersection(B))\n",
        "\n",
        "# 8. Is A subset of B?\n",
        "print(\"Is A subset of B:\", A.issubset(B))\n",
        "\n",
        "# 9. Are A and B disjoint?\n",
        "print(\"Are A and B disjoint:\", A.isdisjoint(B))\n",
        "\n",
        "# 10. Join A with B and B with A\n",
        "print(\"A union B:\", A.union(B))\n",
        "print(\"B union A:\", B.union(A))\n",
        "\n",
        "# 11. Symmetric difference between A and B\n",
        "print(\"Symmetric difference (A ^ B):\", A.symmetric_difference(B))\n",
        "\n",
        "# 12. Delete the sets completely\n",
        "del IT_companies\n",
        "del A\n",
        "del B\n",
        "\n",
        "# 13. Convert age list to set and compare lengths\n",
        "age_set = set(age)\n",
        "print(\"Length of age list:\", len(age))\n",
        "print(\"Length of age set:\", len(age_set))\n"
      ],
      "metadata": {
        "colab": {
          "base_uri": "https://localhost:8080/"
        },
        "id": "aIJeqfggXPoQ",
        "outputId": "f1ec5df8-aad4-4176-f46d-13e5988ec869"
      },
      "execution_count": 8,
      "outputs": [
        {
          "output_type": "stream",
          "name": "stdout",
          "text": [
            "Length of IT_companies: 7\n",
            "After adding Twitter: {'Twitter', 'Oracle', 'IBM', 'Microsoft', 'Amazon', 'Apple', 'Facebook', 'Google'}\n",
            "After adding multiple companies: {'Intel', 'Twitter', 'Amazon', 'Microsoft', 'IBM', 'Tesla', 'Adobe', 'Facebook', 'Google', 'Oracle', 'Apple'}\n",
            "After removing IBM: {'Intel', 'Twitter', 'Amazon', 'Microsoft', 'Tesla', 'Adobe', 'Facebook', 'Google', 'Oracle', 'Apple'}\n",
            "Difference:\n",
            "- remove() will raise an error if the item does not exist.\n",
            "- discard() will NOT raise an error if the item does not exist.\n",
            "Join A and B: {19, 20, 22, 24, 25, 26, 27, 28}\n",
            "A intersection B: {19, 20, 22, 24, 25, 26}\n",
            "Is A subset of B: True\n",
            "Are A and B disjoint: False\n",
            "A union B: {19, 20, 22, 24, 25, 26, 27, 28}\n",
            "B union A: {19, 20, 22, 24, 25, 26, 27, 28}\n",
            "Symmetric difference (A ^ B): {27, 28}\n",
            "Length of age list: 8\n",
            "Length of age set: 5\n"
          ]
        }
      ]
    }
  ]
}