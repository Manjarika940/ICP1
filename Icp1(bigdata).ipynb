{
  "nbformat": 4,
  "nbformat_minor": 0,
  "metadata": {
    "colab": {
      "provenance": []
    },
    "kernelspec": {
      "name": "python3",
      "display_name": "Python 3"
    },
    "language_info": {
      "name": "python"
    }
  },
  "cells": [
    {
      "cell_type": "code",
      "source": [
        "##5.a.\n",
        "user_input = list(input(\"Enter a string (e.g., 'python'): \"))\n",
        "\n",
        "# Delete characters at position 1 and 2 (for example)\n",
        "del user_input[1:3]\n",
        "\n",
        "# Reverse the list\n",
        "user_input.reverse()\n",
        "\n",
        "# Print the final string\n",
        "result = ''.join(user_input)\n",
        "print(\"Final string after deletion and reversal:\", result)\n"
      ],
      "metadata": {
        "colab": {
          "base_uri": "https://localhost:8080/"
        },
        "id": "t5kU5r-dVk62",
        "outputId": "7593d5fc-205c-4e77-942b-6c99b551a3ec"
      },
      "execution_count": 30,
      "outputs": [
        {
          "output_type": "stream",
          "name": "stdout",
          "text": [
            "Enter a string (e.g., 'python'): python\n",
            "Final string after deletion and reversal: nohp\n"
          ]
        }
      ]
    },
    {
      "cell_type": "code",
      "source": [
        "#b. Arithmetic operations\n",
        "# Input two numbers from the user\n",
        "a = float(input(\"Enter first number: \"))\n",
        "b = float(input(\"Enter second number: \"))\n",
        "\n",
        "# Perform arithmetic operations\n",
        "print(\"Addition:\", a + b)\n",
        "print(\"Subtraction:\", a - b)\n",
        "print(\"Multiplication:\", a * b)\n",
        "print(\"Division:\", a / b if b != 0 else \"Cannot divide by zero\")\n"
      ],
      "metadata": {
        "colab": {
          "base_uri": "https://localhost:8080/"
        },
        "id": "iKnarsbRU-Mm",
        "outputId": "16d2cba6-b5bc-4d07-fc6b-117dd6750f7d"
      },
      "execution_count": 31,
      "outputs": [
        {
          "output_type": "stream",
          "name": "stdout",
          "text": [
            "Enter first number: 8\n",
            "Enter second number: 10\n",
            "Addition: 18.0\n",
            "Subtraction: -2.0\n",
            "Multiplication: 80.0\n",
            "Division: 0.8\n"
          ]
        }
      ]
    },
    {
      "cell_type": "code",
      "source": [
        "##6.# Take input from user\n",
        "sentence = input(\"Enter a sentence: \")\n",
        "\n",
        "# Replace 'python' with 'pythons'\n",
        "updated_sentence = sentence.replace(\"python\", \"pythons\")\n",
        "\n",
        "# Print the updated sentence\n",
        "print(\"Updated sentence:\", updated_sentence)\n"
      ],
      "metadata": {
        "colab": {
          "base_uri": "https://localhost:8080/"
        },
        "id": "XaGaA4uhWh8Q",
        "outputId": "1980c8e4-de07-4cf3-9a79-fdd13e4024d1"
      },
      "execution_count": 32,
      "outputs": [
        {
          "output_type": "stream",
          "name": "stdout",
          "text": [
            "Enter a sentence: I love playing with python \n",
            "Updated sentence: I love playing with pythons \n"
          ]
        }
      ]
    },
    {
      "cell_type": "code",
      "source": [
        "##7.# Get score from user\n",
        "score = float(input(\"Enter your class score: \"))\n",
        "\n",
        "# Check the score range and print grade\n",
        "if score >= 90:\n",
        "    print(\"Your grade is: A\")\n",
        "elif score >= 80:\n",
        "    print(\"Your grade is: B\")\n",
        "elif score >= 70:\n",
        "    print(\"Your grade is: C\")\n",
        "elif score >= 60:\n",
        "    print(\"Your grade is: D\")\n",
        "else:\n",
        "    print(\"Your grade is: F\")\n"
      ],
      "metadata": {
        "colab": {
          "base_uri": "https://localhost:8080/"
        },
        "id": "TPsEtGkcW1aH",
        "outputId": "fb0a5615-0361-4f01-936f-0534e79add10"
      },
      "execution_count": 34,
      "outputs": [
        {
          "output_type": "stream",
          "name": "stdout",
          "text": [
            "Enter your class score: 50\n",
            "Your grade is: F\n"
          ]
        }
      ]
    },
    {
      "cell_type": "code",
      "execution_count": 1,
      "metadata": {
        "colab": {
          "base_uri": "https://localhost:8080/"
        },
        "id": "Q_q0NxbjUvuo",
        "outputId": "16ac3a34-35e3-48c1-ecbb-abde96789cb3"
      },
      "outputs": [
        {
          "output_type": "stream",
          "name": "stdout",
          "text": [
            "Mounted at /content/drive\n"
          ]
        }
      ],
      "source": [
        "from google.colab import drive\n",
        "drive.mount('/content/drive')\n"
      ]
    },
    {
      "cell_type": "code",
      "source": [
        "##8. # Input list\n",
        "x = [23, 'Python', 23.98]\n",
        "\n",
        "# Create a list of the types of each element\n",
        "types = [type(item) for item in x]\n",
        "\n",
        "# Print the original list\n",
        "print(x)\n",
        "\n",
        "# Print the list of types\n",
        "print(types)"
      ],
      "metadata": {
        "colab": {
          "base_uri": "https://localhost:8080/"
        },
        "id": "rduDeDpaXHZ_",
        "outputId": "23233b3a-aa65-41fe-b82c-32f07b583abd"
      },
      "execution_count": 36,
      "outputs": [
        {
          "output_type": "stream",
          "name": "stdout",
          "text": [
            "[23, 'Python', 23.98]\n",
            "[<class 'int'>, <class 'str'>, <class 'float'>]\n"
          ]
        }
      ]
    },
    {
      "cell_type": "code",
      "source": [
        "##9.# Initial data\n",
        "IT_companies = {'Facebook', 'Google', 'Microsoft', 'Apple', 'IBM', 'Oracle', 'Amazon'}\n",
        "A = {19, 22, 24, 20, 25, 26}\n",
        "B = {19, 22, 20, 25, 26, 24, 28, 27}\n",
        "age = [22, 19, 24, 25, 26, 24, 25, 24]\n",
        "\n",
        "# 1. Length of IT_companies\n",
        "print(\"Length of IT_companies:\", len(IT_companies))\n",
        "\n",
        "# 2. Add 'Twitter'\n",
        "IT_companies.add('Twitter')\n",
        "print(\"After adding Twitter:\", IT_companies)\n",
        "\n",
        "# 3. Add multiple companies\n",
        "IT_companies.update(['Tesla', 'Intel', 'Adobe'])\n",
        "print(\"After adding multiple companies:\", IT_companies)\n",
        "\n",
        "# 4. Remove one company\n",
        "IT_companies.remove('IBM')  # or discard('IBM')\n",
        "print(\"After removing IBM:\", IT_companies)\n",
        "\n",
        "# 5. Difference between remove and discard\n",
        "print(\"Difference:\")\n",
        "print(\"- remove() will raise an error if the item does not exist.\")\n",
        "print(\"- discard() will NOT raise an error if the item does not exist.\")\n",
        "\n",
        "# 6. Join A and B (Union)\n",
        "print(\"Join A and B:\", A.union(B))\n",
        "\n",
        "# 7. A intersection B\n",
        "print(\"A intersection B:\", A.intersection(B))\n",
        "\n",
        "# 8. Is A subset of B?\n",
        "print(\"Is A subset of B:\", A.issubset(B))\n",
        "\n",
        "# 9. Are A and B disjoint?\n",
        "print(\"Are A and B disjoint:\", A.isdisjoint(B))\n",
        "\n",
        "# 10. Join A with B and B with A\n",
        "print(\"A union B:\", A.union(B))\n",
        "print(\"B union A:\", B.union(A))\n",
        "\n",
        "# 11. Symmetric difference between A and B\n",
        "print(\"Symmetric difference (A ^ B):\", A.symmetric_difference(B))\n",
        "\n",
        "# 12. Delete the sets completely\n",
        "del IT_companies\n",
        "del A\n",
        "del B\n",
        "\n",
        "# 13. Convert age list to set and compare lengths\n",
        "age_set = set(age)\n",
        "print(\"Length of age list:\", len(age))\n",
        "print(\"Length of age set:\", len(age_set))\n"
      ],
      "metadata": {
        "colab": {
          "base_uri": "https://localhost:8080/"
        },
        "id": "aIJeqfggXPoQ",
        "outputId": "ad8d1c84-1cbe-43e5-e76a-5fb10a6536ee"
      },
      "execution_count": 38,
      "outputs": [
        {
          "output_type": "stream",
          "name": "stdout",
          "text": [
            "Length of IT_companies: 7\n",
            "After adding Twitter: {'Twitter', 'Oracle', 'IBM', 'Microsoft', 'Amazon', 'Apple', 'Facebook', 'Google'}\n",
            "After adding multiple companies: {'Intel', 'Twitter', 'Amazon', 'Microsoft', 'IBM', 'Tesla', 'Adobe', 'Facebook', 'Google', 'Oracle', 'Apple'}\n",
            "After removing IBM: {'Intel', 'Twitter', 'Amazon', 'Microsoft', 'Tesla', 'Adobe', 'Facebook', 'Google', 'Oracle', 'Apple'}\n",
            "Difference:\n",
            "- remove() will raise an error if the item does not exist.\n",
            "- discard() will NOT raise an error if the item does not exist.\n",
            "Join A and B: {19, 20, 22, 24, 25, 26, 27, 28}\n",
            "A intersection B: {19, 20, 22, 24, 25, 26}\n",
            "Is A subset of B: True\n",
            "Are A and B disjoint: False\n",
            "A union B: {19, 20, 22, 24, 25, 26, 27, 28}\n",
            "B union A: {19, 20, 22, 24, 25, 26, 27, 28}\n",
            "Symmetric difference (A ^ B): {27, 28}\n",
            "Length of age list: 8\n",
            "Length of age set: 5\n"
          ]
        }
      ]
    },
    {
      "cell_type": "markdown",
      "source": [
        "https://drive.google.com/file/d/1fTC0Hmlba6eVnsObl1ulZDQEpSAE6aGK/view?usp=sharing"
      ],
      "metadata": {
        "id": "agWHmq9et9Nl"
      }
    }
  ]
}